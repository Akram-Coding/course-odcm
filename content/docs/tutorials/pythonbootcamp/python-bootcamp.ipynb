{
 "cells": [
  {
   "cell_type": "markdown",
   "metadata": {},
   "source": [
    "# Python Bootcamp (oDCM)\n",
    "\n",
    "*After installing Anaconda and going over the first 3 chapters of the [Introduction to Python](https://learn.datacamp.com/courses/intro-to-python-for-data-science) DataCamp course, you should have a understanding of variables, lists, and functions. Therefore, we assume you know how to load a Jupyter Notebook and perform basic operations in Python. In this tutorial, we fill in the gaps of knowledge required for web scraping and APIs purposes.*\n",
    "\n",
    "--- \n",
    "\n",
    "## Learning Objectives\n",
    "\n",
    "Students will be able to: \n",
    "* Apply conditional logical using if-else statements\n",
    "* Loop over a list of elements \n",
    "* Define and add items to a dictionary\n",
    "* Write their own functions using parameters\n",
    "* Handle common error messages and debug their code\n",
    "* Read and write text files \n",
    "\n",
    "--- \n",
    "\n",
    "## Acknowledgements\n",
    "This course draws on a variety of online resources which can be retrieved from the [course website](https://odcm.hannesdatta.com/#student-profile--prerequisites). \n",
    "\n",
    "\n",
    "--- \n",
    "\n",
    "## Support Needed?\n",
    "For technical issues outside of scheduled classes, please check the [support section](https://odcm.hannesdatta.com/docs/course/support) on the course website.\n",
    "\n",
    "---"
   ]
  },
  {
   "cell_type": "markdown",
   "metadata": {},
   "source": [
    "## 1. Conditional Logic"
   ]
  },
  {
   "cell_type": "markdown",
   "metadata": {},
   "source": [
    "### 1.1 Comparison Operators\n",
    "**Importance**  \n",
    "In one of the very first Datacamp exercises you were asked to assign the value `100` to a variable `savings` with the statement `savings = 100`. In practice, you oftentimes find yourself in a situation where you want to make a decision based on whether something is true or false. For example, if we reach a negative account balance (`balance < 0`) we want to transfer money from our savings account to our checking account. \n",
    "\n",
    "In Python we can make such comparisons with logical operators like you have seen before in your math classes: "
   ]
  },
  {
   "cell_type": "markdown",
   "metadata": {},
   "source": [
    "| Operator | Example | What it does | \n",
    "| :--- | :--- | :--- |\n",
    "| > | `a > b` |  Truthy if **a** is greater than **b** |\n",
    "| < | `a < b` | Truthy if **a** is less than **b** |\n",
    "| >= | `a >= b` | Truthy if **a** is greater than or equal to **b** |\n",
    "| <= | `a <= b` | Truthy if **a** is less than or equal to **b** |\n",
    "\n"
   ]
  },
  {
   "cell_type": "markdown",
   "metadata": {},
   "source": [
    "**Let's try it out!**\n",
    "\n",
    "Now assume both `a` and `b` take on the value `1`. Before running the cell below, try to evaluate whether each of the four value (`>`, `<`, `>=`, `<=`) translate into a `True` or `False` value (also known as booleans). "
   ]
  },
  {
   "cell_type": "code",
   "execution_count": 7,
   "metadata": {},
   "outputs": [
    {
     "name": "stdout",
     "output_type": "stream",
     "text": [
      "False\n",
      "False\n",
      "True\n",
      "True\n"
     ]
    }
   ],
   "source": [
    "a = 1 \n",
    "b = 1\n",
    "print(a > b)\n",
    "print(a < b)\n",
    "print(a >= b)\n",
    "print(a <= b)"
   ]
  },
  {
   "cell_type": "markdown",
   "metadata": {},
   "source": [
    "Rather than looking for values greater or smaller than, we can also check whether items take on the same value (`a == b`) or a different value (`a != b`). Note the difference between variable assignment (single `=`) and the comparison operator (double `==`). For example, `savings = 100` means we create a new variable that we assign a value of `100`, whereas `savings == 100` checks whether the variable already contains a value of `100` (if not it will return `False`). "
   ]
  },
  {
   "cell_type": "code",
   "execution_count": 9,
   "metadata": {},
   "outputs": [
    {
     "name": "stdout",
     "output_type": "stream",
     "text": [
      "True\n",
      "False\n"
     ]
    }
   ],
   "source": [
    "savings = 100 # variable assignment\n",
    "print(savings == 100) # comparison \n",
    "print(savings != 100) # comparison (False because it is 100!)"
   ]
  },
  {
   "cell_type": "markdown",
   "metadata": {},
   "source": [
    "### 1.2 If-statements"
   ]
  },
  {
   "cell_type": "markdown",
   "metadata": {},
   "source": [
    "**Importance**  \n",
    "We can use these comparison operators as inputs for if-statements which tell the computer to choose a different path based on the some type of comparison: "
   ]
  },
  {
   "cell_type": "raw",
   "metadata": {},
   "source": [
    "if some condition is True: \n",
    "   * do something\n",
    "elif some other condition is True: \n",
    "   * do something\n",
    "else: \n",
    "   * do something"
   ]
  },
  {
   "cell_type": "markdown",
   "metadata": {},
   "source": [
    "First, it checks whether the first condition is met (`if some condition`). If not, it will move on to the next line (`elif some condition`). If neither of those conditions are true, it will `do something` according to the `else` clause.\n",
    "\n",
    "In the bank account example, our program could look like this:"
   ]
  },
  {
   "cell_type": "code",
   "execution_count": 16,
   "metadata": {},
   "outputs": [
    {
     "name": "stdout",
     "output_type": "stream",
     "text": [
      "You should top up your checking account to avoid paying interest\n"
     ]
    }
   ],
   "source": [
    "if balance < 0: \n",
    "    print(\"You should top up your checking account to avoid paying interest\")\n",
    "elif balance == 0: \n",
    "    print(\"Your checking account balance is exactly €0.00, be careful when making new payments!\")\n",
    "else: \n",
    "    print(\"You have a positive balance\")"
   ]
  },
  {
   "cell_type": "markdown",
   "metadata": {},
   "source": [
    "A few remarks:   \n",
    "* After each comparison there is a colon (`:`). This tells the program that it's the end of the comparison.  \n",
    "* The statement below each if, elif, else clause needs to be indented (that is, a TAB or 4 spaces to the right). This improves structure and readability. \n",
    "* There can be multiple `elif` statements. For example, if you want to display another message when the balance is positive though very low (e.g., `balance < 50`).\n",
    "* Note how we can derive that the `balance` must be positive from the fact that it is neither negative (`balance < 0`) nor equal to zero (`balance == 0`)."
   ]
  },
  {
   "cell_type": "markdown",
   "metadata": {},
   "source": [
    "**Let's try it out!**  \n",
    "Add a variable `balance` to the top of the cell and assign it a value of `-10` and run the cell. Now do it again and change the value to `0` and `10`. Does the output match your expectations? "
   ]
  },
  {
   "cell_type": "markdown",
   "metadata": {},
   "source": [
    "**Exercise 1**  \n",
    "Say that we want to develop a program that advises students on whether they can take the Online Data Collection and Management course. On the [course catalogue](https://catalogus.tilburguniversity.edu/osiris_student_tiuprd/OnderwijsCatalogusKiesCursus.do) page we find that the course is instructed to Marketing Analytics students. Furthermore, Research Master students can audit this course upon approval of the instructor. \n",
    "\n",
    "Use conditional logical to write a program that checks the value of a variable `study` and prints one of the following statements: \n",
    "* *You satisfy the course requirements* (for Marketing Analytics students)\n",
    "* *Please send an email with your motivation to enroll in the course to Hannes Datta* (for Research Master students)\n",
    "* *You do not satisfy the course requirements. Please contact your educational officer if you want to enroll in the course.* (for all other studies, e.g. \"Psychology\")"
   ]
  },
  {
   "cell_type": "code",
   "execution_count": null,
   "metadata": {},
   "outputs": [],
   "source": [
    "# your code goes here!"
   ]
  },
  {
   "cell_type": "code",
   "execution_count": 18,
   "metadata": {},
   "outputs": [
    {
     "name": "stdout",
     "output_type": "stream",
     "text": [
      "You satisfy the course requirements\n"
     ]
    }
   ],
   "source": [
    "# solution\n",
    "if study == \"Marketing Analytics\":\n",
    "    print(\"You satisfy the course requirements\")\n",
    "elif study == \"Research Master\":\n",
    "    print(\"Please send an email with your motivation to enroll in the course to Hannes Datta\")\n",
    "else:\n",
    "    print(\"You do not satisfy the course requirements. Please contact your educational officer if you want to enroll in the course.\")"
   ]
  },
  {
   "cell_type": "markdown",
   "metadata": {},
   "source": [
    "### 1.3 And / Or Operators"
   ]
  },
  {
   "cell_type": "markdown",
   "metadata": {},
   "source": [
    "**Importance**  \n",
    "In reality, you may want to check for multiple conditions. For example, employers with a full-time job go to their work every workday provided that it's not a holiday. In other words, both conditions must be met (`and`). Alternatively, you can check if at least one of the conditions is satisfied (`or`). For example, you go to bed if you're tired or whether it's bedtime already. Lastly, you may require a value to be NOT true, for example workers go to work during workdays not during the weekend (`not`). \n"
   ]
  },
  {
   "cell_type": "markdown",
   "metadata": {},
   "source": [
    "| Operator | Example | What it does | \n",
    "| :--- | :--- | :--- |\n",
    "| and | if workday and no_holiday: <br> &nbsp;&nbsp;&nbsp;&nbsp;print(\"Go to work!\") | Truthy if both `workday` and `no_holiday` are true |\n",
    "| or | if tired or bed_time: <br> &nbsp;&nbsp;&nbsp;&nbsp;print(\"Go to sleep!\") | Truthy if either `tired` or `bed_time` is true (or both) |\n",
    "| not | if not weekend: <br> &nbsp;&nbsp;&nbsp;&nbsp;print(\"Go to work!\") | Truthy if the opposite is true |"
   ]
  },
  {
   "cell_type": "markdown",
   "metadata": {},
   "source": [
    "**Let's try it out!**  \n",
    "Change the boolean values (from `True` to `False` and vice versa), and see how it affects the output!"
   ]
  },
  {
   "cell_type": "code",
   "execution_count": 20,
   "metadata": {},
   "outputs": [
    {
     "name": "stdout",
     "output_type": "stream",
     "text": [
      "Go to work!\n"
     ]
    }
   ],
   "source": [
    "workday = True\n",
    "no_holiday = True\n",
    "\n",
    "if workday and no_holiday:\n",
    "    print(\"Go to work!\")"
   ]
  },
  {
   "cell_type": "code",
   "execution_count": 22,
   "metadata": {},
   "outputs": [
    {
     "name": "stdout",
     "output_type": "stream",
     "text": [
      "Go to sleep!\n"
     ]
    }
   ],
   "source": [
    "tired = True\n",
    "bed_time = False\n",
    "\n",
    "if tired or bed_time:\n",
    "    print(\"Go to sleep!\")"
   ]
  },
  {
   "cell_type": "code",
   "execution_count": 21,
   "metadata": {},
   "outputs": [
    {
     "name": "stdout",
     "output_type": "stream",
     "text": [
      "Go to work!\n"
     ]
    }
   ],
   "source": [
    "weekend = False\n",
    "\n",
    "if not weekend:\n",
    "    print(\"Go to work!\")"
   ]
  },
  {
   "cell_type": "markdown",
   "metadata": {},
   "source": [
    "**Exercise 2**  \n",
    "In addition to the study program, the oDCM [course catalogue](https://catalogus.tilburguniversity.edu/osiris_student_tiuprd/OnderwijsCatalogusKiesCursus.do) page also describes that students are expected to have acquired a working knowledge in Python. Extend your program of Exercise 1 such that it not only checks whether students have the right study program, but also the required `prior_knowledge` (boolean variable)."
   ]
  },
  {
   "cell_type": "code",
   "execution_count": null,
   "metadata": {},
   "outputs": [],
   "source": [
    "# solution (it's not necessary to check whether prior_knowledge == True)\n",
    "if study == \"Marketing Analytics\" and prior_knowledge:\n",
    "    print(\"You satisfy the course requirements\")\n",
    "elif study == \"Research Master\" and prior_knowledge:\n",
    "    print(\"Please send an email with your motivation to enroll in the course to Hannes Datta\")\n",
    "else:\n",
    "    print(\"You do not satisfy the course requirements. Please contact your educational officer if you want to enroll in the course.\")"
   ]
  },
  {
   "cell_type": "markdown",
   "metadata": {},
   "source": [
    "Once you chain `and` and `or` statements things become more complex. Suppose that we want to calculate whether a student passed the course or not. As mentioned in the grading criteria, students pass the course if the total course grade is >= 5.5, and the exam is passed (>= 5.5). Since the student scored a 4.3 in her first attempt, she needed to take the resit for which she scored a 5.6. Still, her final grade was only a 5.4 because her team did not do really well in the team project. \n",
    "\n",
    "According to the grading criteria, she therefore did not pass the course. Yet the boolean expression below evaluates to `True`, why is that? "
   ]
  },
  {
   "cell_type": "code",
   "execution_count": 28,
   "metadata": {},
   "outputs": [
    {
     "data": {
      "text/plain": [
       "True"
      ]
     },
     "execution_count": 28,
     "metadata": {},
     "output_type": "execute_result"
    }
   ],
   "source": [
    "final_grade = 5.4\n",
    "exam_grade = 4.3\n",
    "resit_grade = 5.6\n",
    "\n",
    "final_grade > 5.5 and exam_grade > 5.5 or resit_grade > 5.5"
   ]
  },
  {
   "cell_type": "markdown",
   "metadata": {},
   "source": [
    "Python implicitly evaluates the code from left to write which implies that: \n",
    "* The final grade and the exam grade must be greater than or equal to 5.5\n",
    "* OR the resit grade must be greater than or equal to 5.5 (regardless of the final grade)\n",
    "\n",
    "We can fix this by explicitly enforcing the structure of the comparisons with parentheses:"
   ]
  },
  {
   "cell_type": "code",
   "execution_count": 29,
   "metadata": {},
   "outputs": [
    {
     "data": {
      "text/plain": [
       "False"
      ]
     },
     "execution_count": 29,
     "metadata": {},
     "output_type": "execute_result"
    }
   ],
   "source": [
    "final_grade > 5.5 and (exam_grade > 5.5 or resit_grade > 5.5)"
   ]
  },
  {
   "cell_type": "markdown",
   "metadata": {},
   "source": [
    "**Exercise 3**  \n",
    "The minimum age for driving in the Netherlands is 17, but you cannot get a full license until the age of 18. In between you need to be accompanied by a coach (e.g., parent who sits next to you in the car). \n",
    "\n",
    "The code snippet below should reflect this policy but currently has some issues. Add parentheses to the conditional expressions below such that it prints the expected output."
   ]
  },
  {
   "cell_type": "code",
   "execution_count": 38,
   "metadata": {},
   "outputs": [
    {
     "name": "stdout",
     "output_type": "stream",
     "text": [
      "You're allowed to drive!\n"
     ]
    }
   ],
   "source": [
    "driver_license = False\n",
    "age = 17\n",
    "coach = True\n",
    "\n",
    "if driver_license and age >= 18 or age == 17 and coach: \n",
    "    print(\"You're allowed to drive!\")    \n",
    "else: \n",
    "    print(\"You're not allowed to drive!\")    "
   ]
  },
  {
   "cell_type": "code",
   "execution_count": 39,
   "metadata": {},
   "outputs": [
    {
     "name": "stdout",
     "output_type": "stream",
     "text": [
      "You're not allowed to drive!\n"
     ]
    }
   ],
   "source": [
    "# solution\n",
    "if driver_license and (age >= 18 or age == 17 and coach): \n",
    "    print(\"You're allowed to drive!\")    \n",
    "else: \n",
    "    print(\"You're not allowed to drive!\")      "
   ]
  },
  {
   "cell_type": "markdown",
   "metadata": {},
   "source": [
    "\n",
    "\n",
    "\n",
    "\n",
    "* We can use these comparisons as input for our if-statements\n",
    "\n",
    "* \n",
    "    * If-statements represents different paths a program can take based on some type of comparison of input \n",
    "        * if some condition is True: \n",
    "            * do something\n",
    "        * elif some other condition is True: \n",
    "            * do something\n",
    "        * else: \n",
    "            * do something\n",
    "\n",
    "        * Can be more than 1 elif\n",
    "        * Need the colons (:) - indicator there will be an indented block below \n",
    "        * Note the indentation (TAB or 4 spaces)  \n",
    "            if name == \"abc\":  \n",
    "            print(\"gives an error\")\n",
    "           \n",
    " \n",
    "* Logical operators\n",
    "    * if bachelor == ... or bachelor == ... : (diagram maken of ze worden toegelaten tot de opleiding) \n",
    "    * price of ticket depending on your age, student card, etc.\n",
    "    * haakjes combineren (a and b) or c: \n",
    "        * Exercise: put parentheses around different logical statements to make it easier to break down \n",
    "\n"
   ]
  },
  {
   "cell_type": "code",
   "execution_count": null,
   "metadata": {},
   "outputs": [],
   "source": [
    "if balance < 0: \n",
    "    print(\"You should top up your checking account to avoid paying interest\")\n",
    "elif balance == 0: \n",
    "    print(\"Your checking account balance is exactly €0.00, be careful when making new payments!\")\n",
    "else: \n",
    "    print(\"You have a positive balance\")"
   ]
  },
  {
   "cell_type": "markdown",
   "metadata": {},
   "source": [
    "### 1.3 And / Or Operators"
   ]
  },
  {
   "cell_type": "markdown",
   "metadata": {},
   "source": [
    "## 1. Jupyter Notebooks\n",
    "\n",
    "\n",
    "### 1.1 Opening Files\n",
    "* From local disk user directory\n",
    "* From a download in user directory \n",
    "\n",
    "### 1.2 Code & Markdown\n",
    "* Code \n",
    "    * `print(\"...\")`\n",
    "    * `print()` statements in Python files vs Jupyter Notebooks\n",
    "    * Multiple operations below one another \n",
    "* Markdown \n",
    "    * Headers, regular text, italics, bold\n",
    "    * Nieuwe regel (2x spatie) \n",
    "    * Bullet points and numbered lists\n",
    "    * Inline code\n",
    "\n",
    "* Run cells\n",
    "* Add new cells or remove existing cells \n",
    "* Moving cells up or down\n",
    "\n",
    "\n",
    "### 1.x Documentation\n",
    "https://docs.python.org/3.8/library/index.html\n",
    "Stackoverflow \n",
    "Python 2 docs longer around but not always up to date / syntax changes (e.g., print X\n"
   ]
  },
  {
   "cell_type": "markdown",
   "metadata": {},
   "source": [
    "## 2. Variables \n",
    "* Understand how to assign and use variables \n",
    "* Learn Python variable naming restrictions and conventions \n",
    "* Learn and use some of the different data types available in Python\n",
    "* Understand how to convert data types (string to number) \n",
    "\n",
    "### 2.1 Introduction\n",
    "* A variable in Python is like a variable in mathematics: it is a named symbol that holds a value \n",
    "    * Variable name on the left; value on the right of the equal sign\n",
    "    * Reusability (a very long number that you don't want to type out every time) \n",
    "    * Dynamic data (it can take on different values) \n",
    "    * Variables must be assigned before they can be used\n",
    "    * Input for user input \n",
    "    * page_num = 1\n",
    "        * recall: page_num -> gives 1\n",
    "        * page_num = page_num + 1 -> 2\n",
    "        * reassign values: page_num = 10 (overschrijft alle waarden tot dan toe) \n",
    "    \n",
    "    \n",
    "### 2.2 Naming conventions\n",
    "* Must start with a letter or underscore (dus niet: 24_opening_hours = \"00:00 - 23:59\"; maar my_1st_variable is weer wel goed) \n",
    "* The rest of the name must consist of letters, numbers, or underscores (geen @ - odcm@uvt.nl) \n",
    "* Names are case-sensitive (course_name != Course_Name) \n",
    "\n",
    "* Convention: guidelines/style - what most people should do\n",
    "    * Variables should be snake_case (underscores between words) \n",
    "        * Exercise: rewrite code so that it matches Python conventions\n",
    "    * Variables should be also be lowercase (tenzij het echt een constante is: PI = 3.14)\n",
    "        * UpperCamelCase (refers to a class)\n",
    "        * lower_snake_case\n",
    "        * UpperCamelCase\n",
    "        * CAPITAL_SNAKE_CASE\n",
    "        * lower-dash-case\n",
    "        \n",
    "        \n",
    "### 2.3 Comments\n",
    "* Add comments to your code (shortcut: Cmd + /)\n",
    "    * Markdown comments\n",
    "    * Code comments\n",
    "    * Multiline comments\n",
    "    * Especially if you're starting out; code is not always self-explanatory\n",
    "    * If you're working in a team \n",
    "    * Comment part of your code (rather than deleting it - to test other parts of the code) \n",
    "\n",
    "        \n",
    "## 3. Data Types\n",
    "\n",
    "| data type | description | \n",
    "| :--- | :---|\n",
    "| bool | True or False values |\n",
    "| int | an integer (1,2,3) |\n",
    "| str | (string) a sequence of characters (\"Roy\") |\n",
    "| list | an ordered sequence of values of other data types, e.g. [1,2,3] or [\"a\", \"b\", \"c\"]\n",
    "| dict | a collection of key: values, e.g. {\"first_name\": \"Colt\"}\n",
    "\n",
    "\n",
    "* Strings\n",
    "    * String literals can be declared with either single or double quotes\n",
    "    * Inside single (') or double (\") quotes\n",
    "    * It's up to you what you prefer, but stick to the same convention throughout the same file \n",
    "    * It's really just a stylistic thing - equivalent to each other if you compare them \n",
    "    * Doesn't really matter but you have to be consistent\n",
    "    * Use quotes inside quotes: \"he said \"hello there!\"\"\n",
    "        * 'he said: \"hello there!\"'\n",
    "        * \"he said: \\\"hello there!\\\"\n",
    "    * new_line = \"hello \\n world!\" (wordt verdeeld over meerdere regels; ziet het alleen bij een print-statement)\n",
    "    * type(8) vs type (\"8\")\n",
    "    * len(\"some text\") \n",
    "    * String concatenation\n",
    "        * = putting two strings together\n",
    "        * str_one = \"your\", str_two = \"face\", str_three = str_one + \" \" + str_two \n",
    "        * print(\"Hello there and welcome to the game, \" + username)\n",
    "            * greeting = None\n",
    "            * name = None\n",
    "            * greet_name = greeting + \" \" + name\n",
    "        * Different data types\n",
    "            * 8 + \"hello\" -> TypeError\n",
    "    * f-strings\n",
    "        * x = 10 \n",
    "        * formatted = f\"I've told you {x} times already!\"\n",
    "        * takes what inside the {} and turns it into a string\n",
    "    * Indexing\n",
    "        * Indices always start at 0 in Python (contrary to R)\n",
    "        * Index out of range\n",
    "        * variable[len(variabley) - 1]\n",
    "        \n",
    "        \n",
    "* Integers\n",
    "    * Understand difference between ints and floats\n",
    "    * Decimal number takes up much more space\n",
    "    * `type(9)` vs `type(9.0)`\n",
    "    * 1 + 1.0 = 1.0 (int + float = float) \n",
    "    * ** = exponentiation, % = modulo, // = integer division\n",
    "    * order of operations \n",
    "    * pemdas (parentheses, exponents, multiplication, division, addition, subtraction)   \n",
    "\n",
    "* None \n",
    "    * Not a string\n",
    "    * Starts with a capital \"N\"\n",
    "    * Way for Python to express the concept of \"nothing\"\n",
    "    * Example: name = \"Daisy\", age = 30, child = None (in plaats van het helemaal weg te laten beter om expliciet te zeggen None - want a container for the variable ) \n",
    "       \n",
    "\n",
    "                \n",
    "## Looping in Python\n",
    "* Naturally when programming there are a lot of things that you want to repeat. \n",
    "* Print numbers 1 to 7 manually -> vervolgens automatiseren\n",
    "* Webshop voorbeeld: in plaats voor elk object: print name, print price, etc. \n",
    "* \"for\" refers to the idea that you want to do something for every item  in the list (or a number in a range) \n",
    "* for item iterable_object: \n",
    "    do something with item \n",
    "    * iterable object is some kind of collection of items (e.g., list of numbers, a string of characters, a range)\n",
    "    * item is a new varible that can be called whatever you want\n",
    "    * item references the current position of our iterator within the iterable. It will iterate over (run through) every item of the collection and then go away when it has visited all items. \n",
    "* range is a way of quickly generating sequences of numbers \n",
    "    * first number is inclusive, last number is exclusive: range(1,8) is 1 to 7 \n",
    "    * if you only provide 1 number it assumes you start at zero (range(8))\n",
    "    * you don't see the numbers you generated until you use the `list()` keyword\n",
    "    \n",
    "* while loops\n",
    "    * every thing you can do with a for loop you can do with a while loop (but the while loop has some options - inherent if statement)\n",
    "        * while loops require more careful setup than for loops since you have to specify the termination condition manually \n",
    "    * starts with a boolean expression \n",
    "    * anything in the loop will run as long as the boolean expression is True (while loops continue to execute while a certain condition is truthy, and will end when they become falsy) \n",
    "    * while im_tired: #seek caffeine\n",
    "    * user_response = None\n",
    "      while user_response != \"please\": \n",
    "          user_response = input(\"Ah ah ah, you didn't say the magic word\")\n",
    "    * be careful! if the condition doesn't become false at some point, your loop will continue forever! (= infite loop) \n",
    "    * msg = input(\"what's the secret password?\")\n",
    "      while msg != \"bananas\":\n",
    "        print(\"WRONG!\"\n",
    "        msg = input(\"what the secret password?\")\n",
    "      print(\"CORRECT!\")\n",
    "    * while loops are more flexible \n",
    "    * for loops - if you want to run something a set number of times + shorter to write \n",
    "      \n",
    "* convert a for loop to a while loop\n",
    "    * for num in range(1,11): print(num)\n",
    "    * num=1, while num < 11: print(num) num += 1\n",
    "    \n",
    "* break keyword \n",
    "    * The keyword `break` gives us the ability to exit out of while loops whenever we want\n",
    "    * while True: \n",
    "        command = input(\"Type exit to exit: \") \n",
    "        if command == \"exit\": \n",
    "            break \n",
    "    * it breaks out immediately \n",
    "        * for time in range(times): \n",
    "            break \n",
    "            print(\"AADSFASDF\") # deze zin doet hij niet eens\n",
    "    \n",
    "\n",
    "\n",
    "\n",
    "## Lists\n",
    "\n",
    "\n",
    "## Dictionairies\n",
    "\n",
    "## Functions\n",
    "\n",
    "## Modules\n",
    "\n",
    "## Error Handling\n",
    "\n",
    "## Reading Text Files\n",
    "\n",
    "\n",
    "\n",
    "\n",
    "## Data Structures\n",
    "* Store other data types inside of them -> data structures\n",
    "\n",
    "* List\n",
    "    *  \n",
    "\n",
    "* Dictionary \n",
    "    * There is no order\n",
    "    * Pairs \n",
    "\n",
    "    \n",
    "    \n",
    "\n",
    "    \n",
    "    "
   ]
  },
  {
   "cell_type": "code",
   "execution_count": 14,
   "metadata": {},
   "outputs": [
    {
     "name": "stdout",
     "output_type": "stream",
     "text": [
      "😀\n",
      "😀 😀\n"
     ]
    }
   ],
   "source": [
    "# print the following beautiful art using both a for loop and while loop\n",
    "# if the emoji doesn't print on your machine use a hash or a star \n",
    "print(\"\\U0001f600\")\n",
    "print(\"\\U0001f600 \\U0001f600\")"
   ]
  },
  {
   "cell_type": "code",
   "execution_count": 17,
   "metadata": {},
   "outputs": [
    {
     "name": "stdout",
     "output_type": "stream",
     "text": [
      "😀\n",
      "😀😀\n",
      "😀😀😀\n",
      "😀😀😀😀\n",
      "😀😀😀😀😀\n",
      "😀😀😀😀😀😀\n",
      "😀😀😀😀😀😀😀\n",
      "😀😀😀😀😀😀😀😀\n",
      "😀😀😀😀😀😀😀😀😀\n",
      "😀😀😀😀😀😀😀😀😀😀\n"
     ]
    }
   ],
   "source": [
    "for num in range(1,11):\n",
    "    print(\"\\U0001f600\" * num)"
   ]
  },
  {
   "cell_type": "code",
   "execution_count": 19,
   "metadata": {},
   "outputs": [
    {
     "name": "stdout",
     "output_type": "stream",
     "text": [
      "😀\n",
      "😀😀\n",
      "😀😀😀\n",
      "😀😀😀😀\n",
      "😀😀😀😀😀\n",
      "😀😀😀😀😀😀\n",
      "😀😀😀😀😀😀😀\n",
      "😀😀😀😀😀😀😀😀\n",
      "😀😀😀😀😀😀😀😀😀\n",
      "😀😀😀😀😀😀😀😀😀😀\n"
     ]
    }
   ],
   "source": [
    "# nested for loops (als je dat gehele ding 3x onder elkaar wilt hebben)\n",
    "\n",
    "num = 1\n",
    "\n",
    "while num < 11: \n",
    "    print(\"\\U0001f600\" * num)\n",
    "    num += 1"
   ]
  },
  {
   "cell_type": "markdown",
   "metadata": {},
   "source": [
    "---\n",
    "\n",
    "## 1. Numbers, Operators, and Comments\n",
    "\n",
    "\n",
    "\n",
    "\n",
    "\n",
    "    \n"
   ]
  },
  {
   "cell_type": "code",
   "execution_count": 5,
   "metadata": {},
   "outputs": [
    {
     "data": {
      "text/plain": [
       "4"
      ]
     },
     "execution_count": 5,
     "metadata": {},
     "output_type": "execute_result"
    }
   ],
   "source": [
    "9//2"
   ]
  },
  {
   "cell_type": "markdown",
   "metadata": {},
   "source": [
    "--- \n",
    "\n",
    "## 2. Jupyter Notebook\n",
    "\n",
    "* Starting up Jupyter Notebook\n",
    "    * Anaconda Navigator (but: starts up in user directory)\n",
    "    * Via Anaconda Terminal: learn how to navigate the command line (directory structure, pwd, cd, ls, relative/absolute file paths)\n",
    "  \n",
    "* Installing Python packages\n",
    "    * Anaconda Terminal (vs pip install)\n",
    "    \n",
    "* Using the Anaconda interface\n",
    "    * Opening files \n",
    "        * From local disk (user directory)\n",
    "        * From a download from the internet, in user directory\n",
    "        * From another directory on the computer\n",
    "    * Run cells (control flow from top to bottom)\n",
    "    * Interactivity allows for instant feedback\n",
    "    * Add new cells or remove existing cells \n",
    "    * Moving cells\n",
    "    * Run cells (`Shift + Enter`) \n",
    "    \n",
    "* Writing markdown cells\n",
    "    * Headers, regular text, italics, bolds\n",
    "    * Links / images\n",
    "    * Bullet points and lists\n",
    "    * Inline code\n",
    "   \n",
    "* Getting help\n",
    "    * Stackoverflow\n",
    "    * Help [...]\n"
   ]
  },
  {
   "cell_type": "markdown",
   "metadata": {},
   "source": [
    "## 3. Python Fundamentals\n",
    "* Data types\n",
    "    * Define numeric, string, and boolean variables\n",
    "        * Integers and floats\n",
    "        * Double vs single quotes (strings)\n",
    "        * Escape sequences\n",
    "    * Write inline and multiline comments \n",
    "    * Convert variables into different type\n",
    "    * Math operations (+, -, *, /, mod) \n",
    "    * String operations (concatenate, replace, join, .lower(), .upper()) \n",
    "\n",
    "\n",
    "* Data structures\n",
    "    * Create a list (with different data types)\n",
    "    * Slicing a list \n",
    "    * Iterating over lists\n",
    "    * Extending list elements (append)\n",
    "    * Create a dictionary \n",
    "    * Return values by passing keys\n",
    "        * Nested dictionairies\n",
    "        * .get() vs ['key'] \n",
    "    * Adding items to dictionary\n",
    "\n",
    "\n",
    "* Conditional logic\n",
    "    * If-else statements\n",
    "    * Multiple elifs\n",
    "    * Logical and & or |\n",
    "    * Logical not (!, not)\n",
    "    * Comparisons (== and =)\n",
    "\n",
    "\n",
    "* Looping\n",
    "    * Loop using counter (range)\n",
    "    * Loop over list elements\n",
    "    * Looping over dictionary at different “levels” (keys and values)\n",
    "\n",
    "\n",
    "* Functions \n",
    "    * Parameters\n",
    "    * Return keyword\n",
    "    * Scope \n",
    "    * Docstrings\n",
    "\n",
    "\n",
    "* Modules\n",
    "    * Installing modules\n",
    "    * Importing modules \n",
    "    * Selective imports (from … import ... ) \n",
    "    * Aliasing modules (as …)\n",
    "    * Look up documentation (help statement)\n",
    "\n",
    "\n",
    "* HTTP requests\n",
    "    * HTTP verbs (get, post)\n",
    "    * Requesting JSON\n",
    "    * JSON formatter plugin\n",
    "\n",
    "\n",
    "* Debugging and error handling\n",
    "    * Common types of errors\n",
    "    * Try and except blocks\n",
    "    * Else and finally\n",
    "\n",
    "\n",
    "* Files\n",
    "    * Open and read text files\n",
    "    * With statements\n",
    "    * Writing to text files"
   ]
  },
  {
   "cell_type": "markdown",
   "metadata": {},
   "source": [
    "* https://github.com/kimfetti/Conferences/tree/master/PyCon_2020\n",
    "* https://www.youtube.com/watch?v=RUQWPJ1T6Zc&t=190s\n",
    "* https://github.com/hancush/web-scraping-with-python/blob/master/session/web-scraping-with-python.ipynb#HTML-basics\n",
    "* https://www.udemy.com/course/the-modern-python3-bootcamp/learn/lecture/7991196#overview\n",
    "* https://campus.datacamp.com/courses/web-scraping-with-python/introduction-to-html?ex=1\n",
    "* https://realpython.com/python-web-scraping-practical-introduction/\n",
    "* https://github.com/CU-ITSS/Web-Data-Scraping-S2019"
   ]
  },
  {
   "cell_type": "code",
   "execution_count": null,
   "metadata": {},
   "outputs": [],
   "source": []
  }
 ],
 "metadata": {
  "kernelspec": {
   "display_name": "Python 3",
   "language": "python",
   "name": "python3"
  },
  "language_info": {
   "codemirror_mode": {
    "name": "ipython",
    "version": 3
   },
   "file_extension": ".py",
   "mimetype": "text/x-python",
   "name": "python",
   "nbconvert_exporter": "python",
   "pygments_lexer": "ipython3",
   "version": "3.6.10"
  }
 },
 "nbformat": 4,
 "nbformat_minor": 4
}
