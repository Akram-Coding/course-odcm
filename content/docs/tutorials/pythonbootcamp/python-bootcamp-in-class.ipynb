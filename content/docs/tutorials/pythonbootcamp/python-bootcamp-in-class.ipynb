{
 "cells": [
  {
   "cell_type": "markdown",
   "metadata": {},
   "source": [
    "# Python Bootcamp (in-class)\n",
    "\n",
    "## Learning Objectives\n",
    "\n",
    "Students will be able to: \n",
    "* Locally launch Jupyter Notebook and Spyder\n",
    "* Know when it's useful to use Google Colab in the cloud\n",
    "* Understand basic programming concepts and their applications to collecting web data\n",
    "\n",
    "<div class=\"alert alert-block alert-info\"><b>Support Needed?</b> \n",
    "    For technical issues outside of scheduled classes, please check the <a href=\"https://odcm.hannesdatta.com/docs/course/support\" target=\"_blank\">support section</a> on the course website.\n",
    "</div>\n",
    "\n",
    "------"
   ]
  },
  {
   "cell_type": "markdown",
   "metadata": {},
   "source": [
    "## 1. Welcome to Python!"
   ]
  },
  {
   "cell_type": "markdown",
   "metadata": {},
   "source": [
    "### 1.1 Why we use Python...\n",
    "1. Multi-purpose (web server, web scraping, automating, machine learning)\n",
    "2. High-level, relatively easy to learn\n",
    "3. Great documentation\n",
    "4. Open source / free\n",
    "5. Widely used in business/data science\n",
    "6. Platform independent"
   ]
  },
  {
   "cell_type": "markdown",
   "metadata": {},
   "source": [
    "### 1.2 Differences between Python, `anaconda`, and  `JupyterNotebook`, the cloud...\n",
    "\n",
    "- Python vs. \"Notebooks\" (e.g., running code)\n",
    "- Self-installed Python distribution vs. Anaconda (e.g., getting it \"right\")\n",
    "- Local vs. cloud setups (e.g., installing packages)\n",
    "\n",
    "-------------"
   ]
  },
  {
   "cell_type": "markdown",
   "metadata": {},
   "source": [
    "## 2. Launching Python and getting to know the interface"
   ]
  },
  {
   "cell_type": "markdown",
   "metadata": {},
   "source": [
    "### 2.1 Launching Jupyter Notebook locally\n",
    "\n",
    "- Anaconda Navigator\n",
    "- Command prompt/terminal\n",
    "- Why Jupyter Notebook runs in your browser (and also in your terminal)\n",
    "- Finding and opening `.ipynb` files\n",
    "- Closing Jupyter Notebook\n",
    "\n",
    "<div class=\"alert alert-block alert-info\"><b>Tip:</b> \n",
    "The terms command prompt (Windows) and Terminal (Mac, Linux) are used interchangeably.\n",
    "</div>\n"
   ]
  },
  {
   "cell_type": "markdown",
   "metadata": {},
   "source": [
    "__Exercise 2.1__\n",
    "\n",
    "Download this notebook from the course website as a `.ipynb` file, save it on your computer, launch Jupyter Notebook on your computer, and open the file.\n"
   ]
  },
  {
   "cell_type": "markdown",
   "metadata": {},
   "source": [
    "### 2.2 Getting to know the Jupyter Notebook interface\n",
    "- Code vs. markdown cells\n",
    "- Running cells\n",
    "- Markdown highlighting\n"
   ]
  },
  {
   "cell_type": "markdown",
   "metadata": {},
   "source": [
    "__Exercise 2.2__\n",
    "\n",
    "- Open a new Jupyter Notebook and create content.\n",
    "- First, add a markdown cell, in which you format \"Exercises\" as a first-order title using markdown (using `#`), followed by your name and email address as regular text.\n",
    "- Second, add a code cell, in which you type `message = \"Hello world\"`.\n",
    "- Third, add another code cell, in which you type `print(message)`.\n",
    "- Run all cells.\n",
    "- Save the notebook as `my_exercise.ipynb`."
   ]
  },
  {
   "cell_type": "markdown",
   "metadata": {},
   "source": [
    "### 2.3 Launching Google Colab"
   ]
  },
  {
   "cell_type": "markdown",
   "metadata": {},
   "source": [
    "- Discuss benefits and drawbacks of cloud-based Jupyter Notebooks (e.g., use of `selenium` and `Chrome`)\n",
    "- [Launching Google Colab](https://colab.research.google.com)\n",
    "- Connecting Google Colab to your Google Drive\n",
    "\n",
    "__Exercise 2.3__\n",
    "- Open `my_exercise.ipynb` in Google Colab, run it, and create a collaborative sharing link.\n"
   ]
  },
  {
   "cell_type": "markdown",
   "metadata": {},
   "source": [
    "### 2.4 Launching a Python editor (e.g., Spyder)\n",
    "- Source code (vs. code cells)\n",
    "- Comments (vs. markdown cells)\n",
    "- File extensions (`.ipynb` vs. `.py`)\n",
    "- Alternative editors (e.g., VS Code)\n",
    "- Launching `.py` files \"in production\" from the terminal: `python your_sourcecode.py`"
   ]
  },
  {
   "cell_type": "markdown",
   "metadata": {},
   "source": [
    "__Exercise 2.4__\n",
    "\n",
    "- Create the following `code.py` file, with the following content:\n",
    "    \n",
    "    ```\n",
    "    message = \"Hello world\"\n",
    "    print(message)\n",
    "    ```\n",
    "\n",
    "- Run the file from the terminal."
   ]
  },
  {
   "cell_type": "markdown",
   "metadata": {},
   "source": [
    "### 2.5 Installing packages and using help on the web\n",
    "\n",
    "- Installing packages __via the terminal__: `pip install <packagename>`\n",
    "- Importing packages into Python __via Python__: `import <packagename>`"
   ]
  },
  {
   "cell_type": "markdown",
   "metadata": {},
   "source": [
    "__Exercise 2.5__\n",
    "\n",
    "Pandas is a really popular package for working with data in Python. Can you quickly search the web for *how to install it*, and then actually install it on your computer and test whether it runs?\n",
    "\n",
    "\n",
    "<div class=\"alert alert-block alert-info\"><b>Tip:</b> \n",
    "I frequently use <a href=\"https://stackoverflow.com/questions/\">Stackoverflow</a> when I'm stuck with Python.\n",
    "</div>\n",
    "\n"
   ]
  },
  {
   "cell_type": "markdown",
   "metadata": {},
   "source": [
    "### 2.6 Why Jupyter Notebook sucks (but still we use it...)\n",
    "\n",
    "- Danger of point-and-click (and benefits of top-down execution)\n",
    "- High overhead (vs. lean `.py` files)\n",
    "- Support of advanced tutorials and packages (limited `selenium` support)\n",
    "\n",
    "<div class=\"alert alert-block alert-info\"><b>Tip:</b> \n",
    "You can mimick top-down execution in Jupyter Notebook by restarting the kernel (Kernel --> Restart), and executing your cells (Cells --> Run all).\n",
    "</div>\n",
    "\n",
    "Ultimately, the benefits of Jupyter Notebook for education outweigh the drawbacks.\n",
    "\n",
    "---------"
   ]
  },
  {
   "cell_type": "markdown",
   "metadata": {},
   "source": [
    "## 3. Coding concepts for web data\n",
    "\n"
   ]
  },
  {
   "cell_type": "markdown",
   "metadata": {},
   "source": [
    "### 3.1 The web data workflow\n",
    "\n",
    "1. Select data sources\n",
    "2. Design data collection\n",
    "    - Import data from the web into Python (\"how to import web data into Python?\")\n",
    "    - Select relevant data from raw HTML files or the output of APIs (\"how to select and filter data in Python?\")\n",
    "    - Store data in tables or databases (\"how to store data using Python?\")\n",
    "3. Execute data collection\n",
    "    - Schedule the data extraction and monitor its health (\"how to schedule Python scripts?\")\n",
    "    \n",
    "    \n",
    "<div class=\"alert alert-block alert-info\"><b>Tip:</b> \n",
    "Curious about the \"real\" web data workflow (which is much more comprehensive then what is here? Start getting familiar with it early on by reading <a href=\"https://journals.sagepub.com/doi/10.1177/00222429221100750\">\"Fields of Gold\"</a> (you've got to know this paper inside out by the end of this course...).\n",
    "</div>\n",
    "\n"
   ]
  },
  {
   "cell_type": "markdown",
   "metadata": {},
   "source": [
    "### 3.2 Variable types: Strings and Numbers\n",
    "- strings (`message = 'Hello world!'` and `message2 = \"This is a tutorial!\"`) vs. numbers (`age = 25`)\n",
    "- joining/concatenating strings (`message + message2`)\n",
    "- calculating with numbers (`age + 1`)\n",
    "- joining strings and numbers (+ conversion) (`message + str(age)`)\n",
    "- printing numbers and strings\n",
    "\n",
    "__Exercise 3.1__\n",
    "\n",
    "Please write some Python code that stores your name in a variable called `name`, and your age in a variable called `age`. Then, print the following to the screen: \"My name is <YOUR NAME> and I am <AGE> years old.\"."
   ]
  },
  {
   "cell_type": "markdown",
   "metadata": {},
   "source": [
    "### 3.3 Crawling data from `reddit.com`\n",
    "\n"
   ]
  },
  {
   "cell_type": "markdown",
   "metadata": {},
   "source": [
    "__Exercise #3.1__\n",
    "\n",
    "- Open Reddit.com and find the \"University\" subreddit - browse it.\n",
    "- Copy the following code to Jupyter Notebook, and execute it.\n",
    "- Then, change the subreddit to one of your choice (i.e., search for something you find interesting on [Reddit.com](https://reddit.com), and rerun the cell.\n"
   ]
  },
  {
   "cell_type": "code",
   "execution_count": 31,
   "metadata": {},
   "outputs": [
    {
     "name": "stdout",
     "output_type": "stream",
     "text": [
      "Getting data from... https://www.reddit.com/r/University/about.json\n",
      "Subreddit name: University\n",
      "Subreddit title: University: academic and real-world news for students, faculty, and academics\n"
     ]
    }
   ],
   "source": [
    "import requests\n",
    "import json\n",
    "subreddit = 'University'\n",
    "url = 'https://www.reddit.com/r/' + subreddit + '/about.json'\n",
    "content = requests.get(url, headers = {'User-agent': 'I am learning Python.'}).json()\n",
    "print('Getting data from...', url)\n",
    "print('Subreddit name:', content['data']['display_name'])\n",
    "print('Subreddit title:', content['data']['title'])"
   ]
  },
  {
   "cell_type": "markdown",
   "metadata": {},
   "source": [
    "### 3.4 Reusing code with functions\n",
    "\n",
    "- Writing functions can drastically simplify code execution (avoiding copy-paste errors)\n",
    "- Functions start with `dev`, and can (but not need to) have inputs (\"arguments\") and outputs (\"returns\")\n",
    "- Functions require a \"hierarchy\", as visualized with indents (same number of spaces or a tab)\n",
    "\n",
    "    \n",
    "<div class=\"alert alert-block alert-info\"><b>Tip:</b> \n",
    "Most novices don't get the indents right. Especially when copy-pasting code from the web, you end up with an inconsistent number of spaces and/or tabs, while Python requires you to always use the same number of spaces or tabs. Be aware of this bottleneck when coding!\n",
    "</div>\n",
    "\n",
    "__Exercise 3.2__\n",
    "\n",
    "- Copy the following function into your Jupyter Notebook, and run the cell."
   ]
  },
  {
   "cell_type": "code",
   "execution_count": 30,
   "metadata": {},
   "outputs": [],
   "source": [
    "def get_reddit_data(subreddit):\n",
    "    url = 'https://www.reddit.com/r/' + subreddit + '/about.json'\n",
    "    content = requests.get(url, headers = {'User-agent': 'I am learning Python.'}).json()\n",
    "    print('Getting data from...', url)\n",
    "    print('Subreddit name:', content['data']['display_name'])\n",
    "    print('Subreddit title:', content['data']['title'])"
   ]
  },
  {
   "cell_type": "markdown",
   "metadata": {},
   "source": [
    "- Then, run the function, by writing `get_reddit_data(\"university\")` in a new cell and running it. Does it work?\n",
    "- Finally, call this function for three subreddits of your choice (and write the code for it & run it!).\n",
    "- What are the inputs and outputs of the `get_reddit_data` function?"
   ]
  },
  {
   "cell_type": "markdown",
   "metadata": {},
   "source": [
    "### 3.5 Returning and saving data\n",
    "\n",
    "- using `return` in a function (simplify to only reddit's `display_name`)\n",
    "- saving data in a variable\n",
    "- choosing variable names\n",
    "- the dictionary data type (attribute-value pairs, `{'name': 'student', 'age': 25}`\n",
    "\n",
    "__Exercise 3.3__\n",
    "\n",
    "Please modify the `get_reddit_data` function to return a dictionary, holding the `display_name` and `title`, and store the dictionary in a variable called `output`."
   ]
  },
  {
   "cell_type": "markdown",
   "metadata": {},
   "source": [
    "### 3.6 Arrays and looping\n",
    "- In web data, you typically want to get data on MORE than one page/endpoint (e.g., subreddit).\n",
    "- Copy-pasting -- even simple function calls -- is to be avoided (copy-paste mistakes, code complexity)\n",
    "- Arrays can hold multiple records of information, e.g., subreddits `subreddits = ['university','marketing','sports']`\n",
    "- The process of \"iterating\" through an array is called a LOOP. Combining these two makes a powerful pair!!!"
   ]
  },
  {
   "cell_type": "code",
   "execution_count": 33,
   "metadata": {},
   "outputs": [
    {
     "name": "stdout",
     "output_type": "stream",
     "text": [
      "university\n",
      "marketing\n",
      "sports\n"
     ]
    }
   ],
   "source": [
    "subreddits = ['university','marketing','sports']\n",
    "\n",
    "for item in subreddits:\n",
    "    print(item)"
   ]
  },
  {
   "cell_type": "markdown",
   "metadata": {},
   "source": [
    "__Exercise 3.4__\n",
    "\n",
    "- Modify the code-snippet above, to repeatedly execute the get_reddit_data() function on the subreddits.\n",
    "- Test the function --- does it work? Where does the output go?\n"
   ]
  },
  {
   "cell_type": "markdown",
   "metadata": {},
   "source": [
    "### 3.7 Saving data in \"flat files\"\n",
    "\n",
    "- The file writing process (open, write, close)\n",
    "- Encoding\n",
    "- Different writing modes (`'a'` for appending, `'w'` for creating new/overwriting existing file)\n",
    "- Choosing a file extension"
   ]
  },
  {
   "cell_type": "code",
   "execution_count": 39,
   "metadata": {},
   "outputs": [],
   "source": [
    "f = open('filename.json', 'w', encoding = 'utf-8') # open new file for writing\n",
    "f.write('Hello world!\\n') # write content and NEW LINE character to file ('\\n')\n",
    "f.close() # close file"
   ]
  },
  {
   "cell_type": "markdown",
   "metadata": {},
   "source": [
    "__Exercise 3.5__\n",
    "\n",
    "Run the code (`f = open`... from the cell above) in Jupyter Notebook. Then, create a NEW cell below it, and write some code that appends `\"I am working on a tutorial\"` to this file.\n"
   ]
  },
  {
   "cell_type": "markdown",
   "metadata": {},
   "source": [
    "### 3.8 Storing dictionaries in \"flat files\"\n",
    "\n",
    "- Dictionaries as new-line separated JSON files\n",
    "- Converting dictionaries to flat-files: the `json` library\n",
    "- Where to load packages in a script?"
   ]
  },
  {
   "cell_type": "code",
   "execution_count": 42,
   "metadata": {},
   "outputs": [
    {
     "data": {
      "text/plain": [
       "'{\"name\": \"student\", \"age\": 25}'"
      ]
     },
     "execution_count": 42,
     "metadata": {},
     "output_type": "execute_result"
    }
   ],
   "source": [
    "my_datapoint = {'name': 'student', 'age': 25}\n",
    "\n",
    "import json\n",
    "\n",
    "json.dumps(my_datapoint)"
   ]
  },
  {
   "cell_type": "markdown",
   "metadata": {},
   "source": [
    "__Exercise 3.6__\n",
    "\n",
    "Please write some code that *saves* the variable content of `my_datapoint` to a flat `json` file, called `my_data.json`."
   ]
  },
  {
   "cell_type": "markdown",
   "metadata": {},
   "source": [
    "### 3.9 Tying things together\n",
    "\n",
    "Now it's your turn. Use the concepts from above to...\n",
    "\n",
    "- Create an array, holding ten subreddit names of your choice\n",
    "- Write a function that returns as a dictionary the following data points from the about page of a subreddit: `display_name`, `title`, `subscribers`, and the date of creation, `created`.\n",
    "- Write a loop to retrieve data for the ten subreddits, and store the data in a new-line separated JSON file called `my_first_web_data.json`.\n",
    "\n",
    "<div class=\"alert alert-block alert-info\"><b>Tips:</b>\n",
    "    \n",
    "<ul>\n",
    "    <li>Did you know you can \"look\" at the API output directly in Firefox or Chrome? Just open the URL that is called for a particular subreddit in your browser. Try it with <a href='https://www.reddit.com/r/University/about.json'>this one first (click)!</a></li>\n",
    "  <li>You can use <code>f.write</code> multiple times in your code. To write a new line to the file, use <code>f.write('\\n')</code>.</li>\n",
    "    <li>Please pay attention to where you open the file for the first time, and how (</code>'a'</code> vs. <code>'w'</code></li>\n",
    "  \n",
    "</ul> \n",
    " \n",
    "</div>\n",
    "\n"
   ]
  },
  {
   "cell_type": "markdown",
   "metadata": {},
   "source": [
    "__That's it! Good job!__"
   ]
  }
 ],
 "metadata": {
  "kernelspec": {
   "display_name": "Python 3",
   "language": "python",
   "name": "python3"
  },
  "language_info": {
   "codemirror_mode": {
    "name": "ipython",
    "version": 3
   },
   "file_extension": ".py",
   "mimetype": "text/x-python",
   "name": "python",
   "nbconvert_exporter": "python",
   "pygments_lexer": "ipython3",
   "version": "3.8.3"
  }
 },
 "nbformat": 4,
 "nbformat_minor": 4
}
