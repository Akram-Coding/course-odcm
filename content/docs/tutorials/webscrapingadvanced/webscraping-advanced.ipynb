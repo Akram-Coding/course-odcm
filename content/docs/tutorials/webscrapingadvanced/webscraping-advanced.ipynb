{
 "cells": [
  {
   "cell_type": "markdown",
   "metadata": {},
   "source": [
    "# Web Scraping Advanced (oDCM)\n",
    "\n",
    "*Lorem ipsum dolor sit amet, consectetur adipiscing elit. Fusce pretium risus at ultricies egestas. Vivamus sit amet arcu sem. In hac habitasse platea dictumst. Nulla pharetra vitae mauris sed mollis. Pellentesque placerat mauris dui, in venenatis nisl posuere ac. Nunc vitae tincidunt risus, ut pellentesque odio. Donec quam neque, iaculis id eros et, condimentum vulputate nulla. Nullam sed ligula leo.*\n",
    "\n",
    "--- \n",
    "\n",
    "## Learning Objectives\n",
    "\n",
    "Students will be able to: \n",
    "* A\n",
    "* B\n",
    "* C\n",
    "\n",
    "\n",
    "--- \n",
    "\n",
    "## Acknowledgements\n",
    "This course draws on online resources built by Brian Keegan, Colt Steele, David Amos, Hannah Cushman Garland, Kimberly Fessel, and Thomas Laetsch. \n",
    "\n",
    "\n",
    "--- \n",
    "\n",
    "## Contact\n",
    "For technical issues try to be as specific as possible (e.g., include screenshots, your notebook, errors) so that we can help you better.\n",
    "\n",
    "**WhatsApp**  \n",
    "+31 13 466 8938\n",
    "\n",
    "**Email**  \n",
    "odcm@uvt.nl"
   ]
  },
  {
   "cell_type": "markdown",
   "metadata": {},
   "source": [
    "---\n",
    "\n",
    "## 1. Advanced Web Scraping\n",
    "* Understand the difference between headless and browser emulation and ability to apply both methods (using selenium).\n",
    "* Emulate user interaction with a site using timers, clicks, scrolling, and filling in forms \n",
    "* Access data that is hidden behind a login-screen\n",
    "* Preprocess raw data with regular expressions (e.g., special characters, thousand separators, trailing and leading spaces)\n",
    "* Custom user agents\n",
    "* Throttling\n",
    "* Regular expressions\n",
    "* Feature engineering (date time, week, year, textblob sentiment)\n",
    "* Error handling (e.g., 404 pages)\n"
   ]
  },
  {
   "cell_type": "markdown",
   "metadata": {},
   "source": [
    "* https://github.com/kimfetti/Conferences/tree/master/PyCon_2020\n",
    "* https://www.youtube.com/watch?v=RUQWPJ1T6Zc&t=190s\n",
    "* https://github.com/hancush/web-scraping-with-python/blob/master/session/web-scraping-with-python.ipynb#HTML-basics\n",
    "* https://www.udemy.com/course/the-modern-python3-bootcamp/learn/lecture/7991196#overview\n",
    "* https://campus.datacamp.com/courses/web-scraping-with-python/introduction-to-html?ex=1\n",
    "* https://realpython.com/python-web-scraping-practical-introduction/\n",
    "* https://github.com/CU-ITSS/Web-Data-Scraping-S2019"
   ]
  },
  {
   "cell_type": "markdown",
   "metadata": {},
   "source": [
    "### Regular expressions\n",
    "* Regex = regular expressions\n",
    "* Way of describing patterns within search strings \n",
    "* Not Python specific topic \n",
    "* Hideous and very difficult to understand (not Pythonic style) \n",
    "* There are a ton of regex symbols -> we're just going to cover the most important ones\n",
    "* Cheat sheet: https://www.rexegg.com/regex-quickstart.html\n",
    "* test regex: https://pythex.org\n",
    "\n",
    "Potential use cases\n",
    "* Credit card number validating\n",
    "* Phone number validating (website forms)\n",
    "* Advanced find/replacd in text\n",
    "    * Check if words are duplicated (one upon a time time)\n",
    "* Formatting text/output\n",
    "* Syntax highlighting (wat je ook in IDE ziet)\n",
    "\n"
   ]
  },
  {
   "cell_type": "markdown",
   "metadata": {},
   "source": [
    "* Validating emails (check: does it follow the right format?) \n",
    "    * letters + @ letters.letters\n",
    "    * gewoon checken of er een @ symobl in staat makkelijk (\"@\" in ...)\n",
    "    * maar @ mag niet op het begin of het einde zijn\n",
    "    * mag niet meer dan 1x @ zijn\n",
    "    * @ moet voor de .com zijn\n",
    "    * ingewikkeld want de \".\" kan ook op andere plekken voorkomen (roy.klaasse.bos@gmail.com)\n",
    "    * je zou hier normaal veel if-statements voor moeten schrijven\n",
    "\n",
    "\n",
    "* Formula\n",
    "    * Starts with 1 or more letter, number, +, _, -,. then\n",
    "    * A sigle @sign\n",
    "    * 1 or more letter, number or - then\n",
    "    * A single dot\n",
    "    * End with 1 or more letter, number, - or ."
   ]
  },
  {
   "cell_type": "markdown",
   "metadata": {},
   "source": [
    "`(^[a-zA-Z0-9_.+-]+@[a-zA-Z0-9-]+\\.[a-ZA-Z0-9-.]+$)`"
   ]
  },
  {
   "cell_type": "markdown",
   "metadata": {},
   "source": [
    "\n",
    "### Basic Syntax\n",
    "* Regular letters\n",
    "* Escape special characters (:\\) voor een smiley)\n",
    "* \\d\\d (for double digits) \n",
    "* Capitalize means NOT (\\s vs \\S)\n",
    "\n",
    "\n",
    "* \\d = digital 0-9\n",
    "* \\w = letter, digit or underscore (word character)\n",
    "    * zowel lowercase als uppercase letters\n",
    "    * accenten vallen hier niet onder!\n",
    "* \\s = whitespace character (maar ook een tab, newline) \n",
    "    * daarin verschilt het van zelf gewoon een spatie invullen -> handig voor (voor als iets het laatste woord van de zin is - gevolgd door een punt)\n",
    "* \\D = not a digit\n",
    "* \\W = not a word character\n",
    "* \\S = not a whitespace character\n",
    "* . = any character except line break"
   ]
  },
  {
   "cell_type": "markdown",
   "metadata": {},
   "source": [
    "### Quantifiers\n",
    "\n",
    "* \\+ = one or more\n",
    "* {3} = exactly 3 times\n",
    "* {3,5} = 3 to 5 times\n",
    "* {4,} = 4 or more times\n",
    "* \\* = 0 or more times\n",
    "* ? = once or none\n",
    "\n",
    "\n",
    "Examples\n",
    "* `ab*c` = a[zero or more b's]c\n",
    "    * verwijst dus naar het teken wat er voorkomt (en niet naar ab)\n",
    "* `06-?12345678` = zowel 0612345678 en 06-12345678\n",
    "* `7{3}` slaat naast 777 ook terug op (4567777789)\n",
    "* `hi{2,}` is a single \"h\" and then \"i\" repeated two or more times (dus niet \"hi\" repeated two times\n",
    "* `0?\\d` = \"00\", \"9\", \"0\", \"03\""
   ]
  },
  {
   "cell_type": "markdown",
   "metadata": {},
   "source": [
    "### Character Classes and Sets\n",
    "* Any vowel eaiou werkt niet -> [eaiou]\n",
    "* Ranges of characters \n",
    "    * lowercase[a-z] - kan ook [a-f]\n",
    "    * [A-Z]\n",
    "* ^ within range\n",
    "    * [^A-Z] = not A-Z"
   ]
  },
  {
   "cell_type": "markdown",
   "metadata": {},
   "source": [
    "### Anchors and boundaries\n",
    "* ^ = start of string or line\n",
    "* $ = end of string or line\n",
    "* \\b = word boundary (bijv. eerste woord in een zin; geen spatie ervoor maar toch meenemen)\n",
    "\n",
    "Examples\n",
    "* probleem met `\\d{3} \\d{3}-?\\d{4}` voor een telefoonnummer -> kan zijn dat er voor of erna nog allemaal andere crap staat \n",
    "    * combinatie van `^` en `$` om andere tekst uit te sluiten \n",
    "    * '^\\d{3} \\d{3}-\\d{4}$' = beginnen met 3 digits en eindigen met 4 digits\n",
    "* `^\\d{3}$` matcht niet met `Yay I got 777`\n",
    "  "
   ]
  },
  {
   "cell_type": "markdown",
   "metadata": {},
   "source": [
    "### Logical Or and Capture Groups\n",
    "\n",
    "* `|` = OR `\\(\\d{3}\\)|\\d{3}` = 3 digits with or without parentheses\n",
    "* () to capture groups \n",
    "    * `\\(\\d{3}\\)|\\d{3} \\d{3} \\d{4}` maakt de vergelijking 3 digits with parentheses or 10 digits without parentheses. Als je dus echt de 3 met en zonder apart wilt vergelijken met je om dat deel haakjes toevoegen\n",
    "    * Zelfs al heb je het niet per se nodig kan het alsnog handig zijn om `()` te gebruiken om een groep aan te maken -> scheiden van naam van voorvoegsel (Mr. / Ms.)\n",
    "    * Gebruik je heel veel zodat je het niet handmatig nog een keer hoeft te gaan splitten\n",
    "    \n",
    "Examples\n",
    "* `https?://([A-Za-z_-0-9]+\\.[A-Za-z_-0-9]+)`\n",
    "    * Alleen het deel na `http://` als groep opslaan\n",
    "* `Mr.|Mister Holmes` -> Mr. OR Mister Holmes (because of a lack of parentheses)\n",
    "* Escape group symbol \n",
    "    * Which regex would match both of the following strings (`cat(s)` AND `dog(s)`)\n",
    "    * `\\w{3}\\(s\\)`"
   ]
  },
  {
   "cell_type": "markdown",
   "metadata": {},
   "source": [
    "### Re Module\n",
    "* https://docs.python.org/3/library/re.html\n",
    "* `r` = raw string (otherwise you have to use double backslashes - avoids that \\t is seen as a TAB)\n",
    "* compiling it separately (`re.compile`) vs rechtstreeks\n",
    "    * if you're using it more than once -> via `re.compile()`\n",
    "* `search` = max 1 result\n",
    "* `findall` = return all results"
   ]
  },
  {
   "cell_type": "code",
   "execution_count": 12,
   "metadata": {},
   "outputs": [
    {
     "name": "stdout",
     "output_type": "stream",
     "text": [
      "415 555-4242\n",
      "['415 555-4242', '310 234-9999']\n",
      "['415 555-4242', '310 234-9999']\n"
     ]
    }
   ],
   "source": [
    "# import regex module\n",
    "import re\n",
    "\n",
    "# define our phone number regex\n",
    "pattern = re.compile(r'\\d{3} \\d{3}-\\d{4}')\n",
    "\n",
    "# search a string with our regex\n",
    "result = pattern.search('Call me at 415 555-4242 or 310 234-9999!')\n",
    "print(result.group())\n",
    "\n",
    "\n",
    "result2 = pattern.findall('Call me at 415 555-4242 or 310 234-9999!')\n",
    "print(result2)\n",
    "\n",
    "\n",
    "# in plaats van een apart object aanmaken -> gelijk pattern in search\n",
    "print(re.findall(r'\\d{3} \\d{3}-\\d{4}', 'Call me at 415 555-4242 or 310 234-9999!'))"
   ]
  },
  {
   "cell_type": "code",
   "execution_count": 19,
   "metadata": {},
   "outputs": [
    {
     "name": "stdout",
     "output_type": "stream",
     "text": [
      "432 567-8976\n",
      "None\n"
     ]
    }
   ],
   "source": [
    "import re\n",
    "\n",
    "def extract_phone(input):\n",
    "    phone_regex = re.compile(r'\\b\\d{3} \\d{3}-\\d{4}\\b')\n",
    "    match = phone_regex.search(input)\n",
    "    if match: \n",
    "        return match.group()\n",
    "    return None\n",
    "\n",
    "print(extract_phone(\"my number is 432 567-8976\"))\n",
    "print(extract_phone(\"my number is 432 567-897622\"))"
   ]
  },
  {
   "cell_type": "markdown",
   "metadata": {},
   "source": [
    "### Parsing URLs\n",
    "* Breaking things up (`match.groups()`)\n"
   ]
  },
  {
   "cell_type": "code",
   "execution_count": 41,
   "metadata": {},
   "outputs": [
    {
     "name": "stdout",
     "output_type": "stream",
     "text": [
      "('http', 'www.youtube.com', '/videos/asd/das/asd')\n",
      "/videos/asd/das/asd\n"
     ]
    }
   ],
   "source": [
    "url_regex = re.compile(r'(https?)://(www.[A-Za-z-]{2,256}\\.[a-z]{2,6})([-a-zA-Z0-9@:%_\\+.~#?&//=]*)')\n",
    "match = url_regex.search(\"http://www.youtube.com/videos/asd/das/asd\")\n",
    "print(match.groups())\n",
    "print(match.groups()[2])"
   ]
  },
  {
   "cell_type": "code",
   "execution_count": 23,
   "metadata": {},
   "outputs": [
    {
     "data": {
      "text/plain": [
       "{'d': '12', 'm': '04', 'y': '2003'}"
      ]
     },
     "execution_count": 23,
     "metadata": {},
     "output_type": "execute_result"
    }
   ],
   "source": [
    "#import re\n",
    "import re\n",
    "#define parse_date below\n",
    "\n",
    "def parse_date(input):\n",
    "    date_regex = re.compile(r'(\\d{2})[/.,](\\d{2})[/.,](\\d{4})')\n",
    "    match = date_regex.search(input)\n",
    "    return {\"d\": match.groups()[0], \n",
    "            \"m\": match.groups()[1], \n",
    "            \"y\": match.groups()[2], \n",
    "            }\n",
    "\n",
    "parse_date('12.04.2003')"
   ]
  },
  {
   "cell_type": "markdown",
   "metadata": {},
   "source": [
    "### Compilation Flags\n",
    "* `IGNORECASE` = geen onderscheid meer tussen lower en upper case ([a-z]) pakt hierdoor ook hoofdletters op\n",
    "* `VEBOSE` = expand across multiple lines (als je hele lange regular expressions hebt) -> ignores white space\n",
    "* Meerdere compilation flags combineren met een pipe (|) symbol"
   ]
  },
  {
   "cell_type": "code",
   "execution_count": 33,
   "metadata": {},
   "outputs": [
    {
     "name": "stdout",
     "output_type": "stream",
     "text": [
      "('Thomas123', 'Yahoo', 'com')\n"
     ]
    }
   ],
   "source": [
    "pattern = re.compile(r\"\"\"\n",
    "    ^([a-z0-9_\\.-]+)      # first part of email\n",
    "    @                     # single @sign\n",
    "    ([a-z0-9_\\.-]+)       # email provider\n",
    "    \\.                    # single period\n",
    "    ([a-z0-9_\\.-]{2,6})$  # com, org, net, etc.\n",
    "    \"\"\", re.VERBOSE | re.IGNORECASE)\n",
    "\n",
    "match = pattern.search(\"Thomas123@Yahoo.com\")\n",
    "print(match.groups())"
   ]
  },
  {
   "cell_type": "code",
   "execution_count": 31,
   "metadata": {},
   "outputs": [
    {
     "ename": "AttributeError",
     "evalue": "'NoneType' object has no attribute 'groups'",
     "output_type": "error",
     "traceback": [
      "\u001b[0;31m---------------------------------------------------------------------------\u001b[0m",
      "\u001b[0;31mAttributeError\u001b[0m                            Traceback (most recent call last)",
      "\u001b[0;32m<ipython-input-31-1505f7c0aa37>\u001b[0m in \u001b[0;36m<module>\u001b[0;34m\u001b[0m\n\u001b[1;32m      8\u001b[0m \u001b[0;34m\u001b[0m\u001b[0m\n\u001b[1;32m      9\u001b[0m \u001b[0mmatch\u001b[0m \u001b[0;34m=\u001b[0m \u001b[0mpattern\u001b[0m\u001b[0;34m.\u001b[0m\u001b[0msearch\u001b[0m\u001b[0;34m(\u001b[0m\u001b[0;34m\"Thomas123@Yahoo.com\"\u001b[0m\u001b[0;34m)\u001b[0m\u001b[0;34m\u001b[0m\u001b[0;34m\u001b[0m\u001b[0m\n\u001b[0;32m---> 10\u001b[0;31m \u001b[0mprint\u001b[0m\u001b[0;34m(\u001b[0m\u001b[0mmatch\u001b[0m\u001b[0;34m.\u001b[0m\u001b[0mgroups\u001b[0m\u001b[0;34m(\u001b[0m\u001b[0;34m)\u001b[0m\u001b[0;34m)\u001b[0m\u001b[0;34m\u001b[0m\u001b[0;34m\u001b[0m\u001b[0m\n\u001b[0m",
      "\u001b[0;31mAttributeError\u001b[0m: 'NoneType' object has no attribute 'groups'"
     ]
    }
   ],
   "source": [
    "pattern = re.compile(r\"\"\"\n",
    "    ^([a-z0-9_\\.-]+)      # first part of email\n",
    "    @                     # single @sign\n",
    "    ([a-z0-9_\\.-]+)       # email provider\n",
    "    \\.                    # single period\n",
    "    ([a-z0-9_\\.-]{2,6})$  # com, org, net, etc.\n",
    "    \"\"\", re.IGNORECASE)\n",
    "\n",
    "match = pattern.search(\"Thomas123@Yahoo.com\")\n",
    "print(match.groups())"
   ]
  },
  {
   "cell_type": "markdown",
   "metadata": {},
   "source": [
    "### Substitutions\n",
    "* Privacy gevoelige informatie weglaten \n",
    "* Zinnen herstructureren: bijv. \n",
    "    * Significant Others (1987) \n",
    "    * Naar: 1987 - Significant Others"
   ]
  },
  {
   "cell_type": "code",
   "execution_count": 48,
   "metadata": {},
   "outputs": [
    {
     "data": {
      "text/plain": [
       "'Last night REDACTED and REDACTED murdered REDACTED'"
      ]
     },
     "execution_count": 48,
     "metadata": {},
     "output_type": "execute_result"
    }
   ],
   "source": [
    "# remove names from text (privacy)\n",
    "text = \"Last night Mrs. Daisy and Mr. White murdered Mr. Chow\"\n",
    "\n",
    "pattern = re.compile(r'(Mrs\\.|Mr\\.) ([a-z]+)', re.IGNORECASE)\n",
    "result = pattern.sub(\"REDACTED\", text)\n",
    "result"
   ]
  },
  {
   "cell_type": "code",
   "execution_count": 51,
   "metadata": {},
   "outputs": [
    {
     "data": {
      "text/plain": [
       "'Last night Mrs. D and Mr. W murdered Mr. C'"
      ]
     },
     "execution_count": 51,
     "metadata": {},
     "output_type": "execute_result"
    }
   ],
   "source": [
    "# aparte groep maken als je bijvoorbeeld wel de eerste letter wilt laten zien\n",
    "# \\g<1> refers to group 1 (je hebt dus geen group 0)\n",
    "pattern = re.compile(r'(Mrs\\.|Mr\\.) ([a-z])([a-z]+)', re.IGNORECASE)\n",
    "result = pattern.sub(\"\\g<1> \\g<2>\", text)\n",
    "result"
   ]
  },
  {
   "cell_type": "code",
   "execution_count": 58,
   "metadata": {},
   "outputs": [
    {
     "data": {
      "text/plain": [
       "'CENSORED you'"
      ]
     },
     "execution_count": 58,
     "metadata": {},
     "output_type": "execute_result"
    }
   ],
   "source": [
    "import re\n",
    "\n",
    "def censor(input):\n",
    "    censor_pattern = re.compile(r'frack\\w*', re.IGNORECASE)\n",
    "    return censor_pattern.sub(\"CENSORED\", input)\n",
    "    \n",
    "censor(\"Frack you\")"
   ]
  },
  {
   "cell_type": "markdown",
   "metadata": {},
   "source": [
    "Exam questions: \n",
    "* Which of the following strings will have matches in them? \n",
    "    * Syntax geven\n",
    "    * Meerdere voorbeeld zinnetjes\n",
    "* Write a function called `is_valid_time` that accepts a single string argument. It should return `True` if the string is formatted correctly as a time, like 3:15 or 12:48 and return `False` otherwise. Note that times can start with a single number (2:30) or two (11:18)."
   ]
  },
  {
   "cell_type": "code",
   "execution_count": 35,
   "metadata": {},
   "outputs": [
    {
     "data": {
      "text/plain": [
       "True"
      ]
     },
     "execution_count": 35,
     "metadata": {},
     "output_type": "execute_result"
    }
   ],
   "source": [
    "# Don't forget to import re!\n",
    "import re\n",
    "# Define is_valid_time below:\n",
    "def is_valid_time(input):\n",
    "    time_regex = re.compile(r'^[0-23]{1,2}:[0-5]{1}[0-9]{1}')\n",
    "    match = time_regex.search(input)\n",
    "    if match:\n",
    "        return True\n",
    "    return False\n",
    "\n",
    "is_valid_time(\"23:59\")"
   ]
  },
  {
   "cell_type": "code",
   "execution_count": null,
   "metadata": {},
   "outputs": [],
   "source": []
  }
 ],
 "metadata": {
  "kernelspec": {
   "display_name": "Python 3",
   "language": "python",
   "name": "python3"
  },
  "language_info": {
   "codemirror_mode": {
    "name": "ipython",
    "version": 3
   },
   "file_extension": ".py",
   "mimetype": "text/x-python",
   "name": "python",
   "nbconvert_exporter": "python",
   "pygments_lexer": "ipython3",
   "version": "3.8.3"
  }
 },
 "nbformat": 4,
 "nbformat_minor": 4
}
